{
  "nbformat": 4,
  "nbformat_minor": 0,
  "metadata": {
    "colab": {
      "name": "Drug Classification.ipynb",
      "provenance": [],
      "authorship_tag": "ABX9TyO5Ey+waPjb1IOIgSYufhE+",
      "include_colab_link": true
    },
    "kernelspec": {
      "name": "python3",
      "display_name": "Python 3"
    }
  },
  "cells": [
    {
      "cell_type": "markdown",
      "metadata": {
        "id": "view-in-github",
        "colab_type": "text"
      },
      "source": [
        "<a href=\"https://colab.research.google.com/github/kiatkai96/Projects/blob/main/Drug_Classification.ipynb\" target=\"_parent\"><img src=\"https://colab.research.google.com/assets/colab-badge.svg\" alt=\"Open In Colab\"/></a>"
      ]
    },
    {
      "cell_type": "markdown",
      "metadata": {
        "id": "upXLL2H53RYP"
      },
      "source": [
        "####Task: To come with a machine learning model to predict the drug type that should be given to a particular patient based on their characteristics and which drug type will suit them best. \r\n"
      ]
    },
    {
      "cell_type": "code",
      "metadata": {
        "id": "RCc-qvJK0Jkw"
      },
      "source": [
        "import pandas as pd\r\n",
        "import matplotlib.pyplot as plt\r\n",
        "import seaborn as sns\r\n",
        "\r\n",
        "# Dimension reduction\r\n",
        "from sklearn.decomposition import PCA\r\n",
        "from sklearn.preprocessing import StandardScaler\r\n",
        "\r\n",
        "# Metrics\r\n",
        "from sklearn.metrics import accuracy_score, f1_score\r\n",
        "from sklearn.model_selection import train_test_split\r\n",
        "from sklearn.model_selection import cross_val_score\r\n",
        "from sklearn.model_selection import GridSearchCV\r\n",
        "\r\n",
        "\r\n",
        "# Models\r\n",
        "from sklearn.svm import SVC\r\n",
        "from sklearn.discriminant_analysis import LinearDiscriminantAnalysis\r\n",
        "from sklearn.linear_model import LogisticRegression\r\n",
        "from sklearn.tree import DecisionTreeClassifier\r\n",
        "from sklearn.ensemble import RandomForestClassifier\r\n",
        "from sklearn.naive_bayes import GaussianNB"
      ],
      "execution_count": null,
      "outputs": []
    },
    {
      "cell_type": "code",
      "metadata": {
        "colab": {
          "base_uri": "https://localhost:8080/"
        },
        "id": "Yr8e9Fgj3p_G",
        "outputId": "992c399e-7918-4554-ddb9-d93cd98f9e54"
      },
      "source": [
        "drugs = pd.read_csv(\"/content/drug200.csv\")\r\n",
        "\r\n",
        "description = [\"Age of patient\",\"Gender of patients\",\"Blood Pressure Levels\",\r\n",
        "       \"Cholesterol levels\",\"Soduim to potassium Ration in Blood\",\"Drug Type\"]\r\n",
        "drugs_descript = pd.DataFrame({\"Column\":drugs.columns,\r\n",
        "                              \"Description\":description})\r\n",
        "print(drugs_descript)\r\n",
        "print(drugs.head())\r\n",
        "\r\n",
        "# drugs data has 200 rows and 6 columns with no missing values"
      ],
      "execution_count": null,
      "outputs": [
        {
          "output_type": "stream",
          "text": [
            "        Column                          Description\n",
            "0          Age                       Age of patient\n",
            "1          Sex                   Gender of patients\n",
            "2           BP                Blood Pressure Levels\n",
            "3  Cholesterol                   Cholesterol levels\n",
            "4      Na_to_K  Soduim to potassium Ration in Blood\n",
            "5         Drug                            Drug Type\n",
            "   Age Sex      BP Cholesterol  Na_to_K   Drug\n",
            "0   23   F    HIGH        HIGH   25.355  DrugY\n",
            "1   47   M     LOW        HIGH   13.093  drugC\n",
            "2   47   M     LOW        HIGH   10.114  drugC\n",
            "3   28   F  NORMAL        HIGH    7.798  drugX\n",
            "4   61   F     LOW        HIGH   18.043  DrugY\n"
          ],
          "name": "stdout"
        }
      ]
    },
    {
      "cell_type": "code",
      "metadata": {
        "colab": {
          "base_uri": "https://localhost:8080/",
          "height": 1000
        },
        "id": "Ix26tpyV7GrW",
        "outputId": "fe51dd40-2971-4fdf-afe6-13ef3abd933f"
      },
      "source": [
        "# Summary statistics plot for the variables \r\n",
        "plt.figure(figsize=(14,13))\r\n",
        "\r\n",
        "# Age\r\n",
        "plt.subplot(3,2,1)\r\n",
        "drugs.Age.plot(kind=\"hist\", ec=\"black\", color=\"orange\")\r\n",
        "plt.title(\"Age range\")\r\n",
        "# Age is ranged from 15 to 74 with majority of participants about 45 to 50 years old\r\n",
        "\r\n",
        "# Na_to_K\r\n",
        "plt.subplot(3,2,2)\r\n",
        "drugs.Na_to_K.plot(kind=\"hist\", ec=\"black\", color=\"orange\")\r\n",
        "plt.title(\"Na_to_K range\")\r\n",
        "\r\n",
        "# Sex\r\n",
        "plt.subplot(3,2,3)\r\n",
        "print(drugs.Sex.value_counts())\r\n",
        "drugs.Sex.value_counts().plot(kind=\"bar\", rot=0)\r\n",
        "plt.title(\"Sex\")\r\n",
        "# There are 96 Females and 104 Males in this dataset\r\n",
        "\r\n",
        "# BP\r\n",
        "plt.subplot(3,2,4)\r\n",
        "print(drugs.BP.value_counts())\r\n",
        "drugs.BP.value_counts().plot(kind=\"bar\", rot=0)\r\n",
        "plt.title(\"Blood Pressure\")\r\n",
        "\r\n",
        "# Cholesterol\r\n",
        "plt.subplot(3,2,5)\r\n",
        "print(drugs.Cholesterol.value_counts())\r\n",
        "drugs.Cholesterol.value_counts().plot(kind=\"bar\", rot=0)\r\n",
        "plt.title(\"Cholesterol\")\r\n",
        "\r\n",
        "# Drug\r\n",
        "plt.subplot(3,2,6)\r\n",
        "print(drugs.Drug.value_counts())\r\n",
        "drugs.Drug.value_counts().plot(kind=\"bar\", rot=0)\r\n",
        "plt.title(\"Drug\")"
      ],
      "execution_count": null,
      "outputs": [
        {
          "output_type": "stream",
          "text": [
            "M    104\n",
            "F     96\n",
            "Name: Sex, dtype: int64\n",
            "HIGH      77\n",
            "LOW       64\n",
            "NORMAL    59\n",
            "Name: BP, dtype: int64\n",
            "HIGH      103\n",
            "NORMAL     97\n",
            "Name: Cholesterol, dtype: int64\n",
            "DrugY    91\n",
            "drugX    54\n",
            "drugA    23\n",
            "drugB    16\n",
            "drugC    16\n",
            "Name: Drug, dtype: int64\n"
          ],
          "name": "stdout"
        },
        {
          "output_type": "execute_result",
          "data": {
            "text/plain": [
              "Text(0.5, 1.0, 'Drug')"
            ]
          },
          "metadata": {
            "tags": []
          },
          "execution_count": 174
        },
        {
          "output_type": "display_data",
          "data": {
            "image/png": "[encoded data removed]",
            "text/plain": [
              "<Figure size 1008x936 with 6 Axes>"
            ]
          },
          "metadata": {
            "tags": [],
            "needs_background": "light"
          }
        }
      ]
    },
    {
      "cell_type": "code",
      "metadata": {
        "colab": {
          "base_uri": "https://localhost:8080/",
          "height": 287
        },
        "id": "S3X_YgVJWIir",
        "outputId": "fcab637a-3f08-49ee-da88-9dda73d9476b"
      },
      "source": [
        "# Correlation Matrix\r\n",
        "sns.heatmap(drugs.corr(), annot=True)"
      ],
      "execution_count": null,
      "outputs": [
        {
          "output_type": "execute_result",
          "data": {
            "text/plain": [
              "<matplotlib.axes._subplots.AxesSubplot at 0x7f3692a77090>"
            ]
          },
          "metadata": {
            "tags": []
          },
          "execution_count": 175
        },
        {
          "output_type": "display_data",
          "data": {
            "image/png": "[encoded data removed]",
            "text/plain": [
              "<Figure size 432x288 with 2 Axes>"
            ]
          },
          "metadata": {
            "tags": [],
            "needs_background": "light"
          }
        }
      ]
    },
    {
      "cell_type": "code",
      "metadata": {
        "colab": {
          "base_uri": "https://localhost:8080/",
          "height": 374
        },
        "id": "k41bwm_CSD7v",
        "outputId": "ade977fc-0fb2-4fa2-c10e-65fe7099a5e5"
      },
      "source": [
        "plt.figure(figsize=(8,10))\r\n",
        "# Boxplot of drug types\r\n",
        "drugs.boxplot(column=\"Age\",by=\"Drug\" )\r\n",
        "plt.tight_layout()\\\r\n",
        "\r\n",
        "# It seems like from the boxplots, patients of older ages of approximately 60 years old tend to be given drug B"
      ],
      "execution_count": null,
      "outputs": [
        {
          "output_type": "stream",
          "text": [
            "/usr/local/lib/python3.7/dist-packages/numpy/core/_asarray.py:83: VisibleDeprecationWarning: Creating an ndarray from ragged nested sequences (which is a list-or-tuple of lists-or-tuples-or ndarrays with different lengths or shapes) is deprecated. If you meant to do this, you must specify 'dtype=object' when creating the ndarray\n",
            "  return array(a, dtype, copy=False, order=order)\n"
          ],
          "name": "stderr"
        },
        {
          "output_type": "display_data",
          "data": {
            "text/plain": [
              "<Figure size 576x720 with 0 Axes>"
            ]
          },
          "metadata": {
            "tags": []
          }
        },
        {
          "output_type": "display_data",
          "data": {
            "image/png": "[encoded data removed]",
            "text/plain": [
              "<Figure size 432x288 with 1 Axes>"
            ]
          },
          "metadata": {
            "tags": [],
            "needs_background": "light"
          }
        }
      ]
    },
    {
      "cell_type": "code",
      "metadata": {
        "colab": {
          "base_uri": "https://localhost:8080/",
          "height": 202
        },
        "id": "CnktG94pC-pT",
        "outputId": "b15e6228-3fc7-4d53-bf00-527301890f0f"
      },
      "source": [
        "# We try to aggregate age into age groups\r\n",
        "AgeGroup = []\r\n",
        "for patient in range(len(drugs)):\r\n",
        "  if drugs.iloc[patient].Age >= 15 and drugs.iloc[patient].Age <= 25:\r\n",
        "    AgeGroup.append(\"15 to 25\")\r\n",
        "  elif drugs.iloc[patient].Age > 25 and drugs.iloc[patient].Age <= 35:\r\n",
        "    AgeGroup.append(\"26 to 35\")\r\n",
        "  elif drugs.iloc[patient].Age > 35 and drugs.iloc[patient].Age <= 45:\r\n",
        "    AgeGroup.append(\"36 to 45\")\r\n",
        "  elif drugs.iloc[patient].Age > 45 and drugs.iloc[patient].Age <= 55:\r\n",
        "    AgeGroup.append(\"45 to 55\")\r\n",
        "  elif drugs.iloc[patient].Age > 55 and drugs.iloc[patient].Age <= 65:\r\n",
        "    AgeGroup.append(\"56 to 65\")\r\n",
        "  elif drugs.iloc[patient].Age > 65 and drugs.iloc[patient].Age <= 75:\r\n",
        "    AgeGroup.append(\"66 to 74\")\r\n",
        "\r\n",
        "drugs[\"AgeGroup\"] = AgeGroup\r\n",
        "drugs.head()  "
      ],
      "execution_count": null,
      "outputs": [
        {
          "output_type": "execute_result",
          "data": {
            "text/html": [
              "<div>\n",
              "<style scoped>\n",
              "    .dataframe tbody tr th:only-of-type {\n",
              "        vertical-align: middle;\n",
              "    }\n",
              "\n",
              "    .dataframe tbody tr th {\n",
              "        vertical-align: top;\n",
              "    }\n",
              "\n",
              "    .dataframe thead th {\n",
              "        text-align: right;\n",
              "    }\n",
              "</style>\n",
              "<table border=\"1\" class=\"dataframe\">\n",
              "  <thead>\n",
              "    <tr style=\"text-align: right;\">\n",
              "      <th></th>\n",
              "      <th>Age</th>\n",
              "      <th>Sex</th>\n",
              "      <th>BP</th>\n",
              "      <th>Cholesterol</th>\n",
              "      <th>Na_to_K</th>\n",
              "      <th>Drug</th>\n",
              "      <th>AgeGroup</th>\n",
              "    </tr>\n",
              "  </thead>\n",
              "  <tbody>\n",
              "    <tr>\n",
              "      <th>0</th>\n",
              "      <td>23</td>\n",
              "      <td>F</td>\n",
              "      <td>HIGH</td>\n",
              "      <td>HIGH</td>\n",
              "      <td>25.355</td>\n",
              "      <td>DrugY</td>\n",
              "      <td>15 to 25</td>\n",
              "    </tr>\n",
              "    <tr>\n",
              "      <th>1</th>\n",
              "      <td>47</td>\n",
              "      <td>M</td>\n",
              "      <td>LOW</td>\n",
              "      <td>HIGH</td>\n",
              "      <td>13.093</td>\n",
              "      <td>drugC</td>\n",
              "      <td>45 to 55</td>\n",
              "    </tr>\n",
              "    <tr>\n",
              "      <th>2</th>\n",
              "      <td>47</td>\n",
              "      <td>M</td>\n",
              "      <td>LOW</td>\n",
              "      <td>HIGH</td>\n",
              "      <td>10.114</td>\n",
              "      <td>drugC</td>\n",
              "      <td>45 to 55</td>\n",
              "    </tr>\n",
              "    <tr>\n",
              "      <th>3</th>\n",
              "      <td>28</td>\n",
              "      <td>F</td>\n",
              "      <td>NORMAL</td>\n",
              "      <td>HIGH</td>\n",
              "      <td>7.798</td>\n",
              "      <td>drugX</td>\n",
              "      <td>26 to 35</td>\n",
              "    </tr>\n",
              "    <tr>\n",
              "      <th>4</th>\n",
              "      <td>61</td>\n",
              "      <td>F</td>\n",
              "      <td>LOW</td>\n",
              "      <td>HIGH</td>\n",
              "      <td>18.043</td>\n",
              "      <td>DrugY</td>\n",
              "      <td>56 to 65</td>\n",
              "    </tr>\n",
              "  </tbody>\n",
              "</table>\n",
              "</div>"
            ],
            "text/plain": [
              "   Age Sex      BP Cholesterol  Na_to_K   Drug  AgeGroup\n",
              "0   23   F    HIGH        HIGH   25.355  DrugY  15 to 25\n",
              "1   47   M     LOW        HIGH   13.093  drugC  45 to 55\n",
              "2   47   M     LOW        HIGH   10.114  drugC  45 to 55\n",
              "3   28   F  NORMAL        HIGH    7.798  drugX  26 to 35\n",
              "4   61   F     LOW        HIGH   18.043  DrugY  56 to 65"
            ]
          },
          "metadata": {
            "tags": []
          },
          "execution_count": 177
        }
      ]
    },
    {
      "cell_type": "code",
      "metadata": {
        "id": "lpJXmAdCyNry"
      },
      "source": [
        "# Dataframe to contain model results\r\n",
        "model_results = pd.DataFrame(columns=[\"Models\",\"Accuracy Score\",\"F1 Score\"])\r\n",
        "\r\n",
        "# Create a function that takes in different model and compute the metrics for comparison\r\n",
        "def model_accuracy(X, Y, model, model_name, model_results=None):\r\n",
        "  X_train, X_test, ytrain, ytest = train_test_split(X, Y, train_size=0.8, random_state=10)\r\n",
        "  model = model.fit(X_train, ytrain)\r\n",
        "  predictions  = model.predict(X_test)\r\n",
        "  score = accuracy_score(predictions, ytest)  # accuracy score\r\n",
        "  f1 = f1_score(predictions, ytest, average=\"macro\") # F1 score  \r\n",
        "\r\n",
        "  if model_results is not None:\r\n",
        "    model_results = model_results.append(pd.DataFrame({\"Models\":model_name,\r\n",
        "                                                        \"Accuracy Score\":score,\r\n",
        "                                                          \"F1 Score\":f1},\r\n",
        "                                                             index = [0]),\r\n",
        "                                                              ignore_index = True)\r\n",
        "    return model_results"
      ],
      "execution_count": null,
      "outputs": []
    },
    {
      "cell_type": "code",
      "metadata": {
        "colab": {
          "base_uri": "https://localhost:8080/"
        },
        "id": "qtDit6TazTTK",
        "outputId": "1a7571f1-6d9f-4297-e495-6b206d4e18cf"
      },
      "source": [
        "# Scale the data first\r\n",
        "Y = drugs.Drug\r\n",
        "X = drugs.drop([\"Drug\",\"Age\"], axis=1)\r\n",
        "X_dummy = pd.get_dummies(X)\r\n",
        "scaler = StandardScaler()\r\n",
        "X_scaled = scaler.fit_transform(X_dummy)\r\n",
        "\r\n",
        "model_results = model_accuracy(X_scaled, Y, SVC(), \"Support Vector Machine\", model_results)\r\n",
        "model_results = model_accuracy(X_scaled, Y, LinearDiscriminantAnalysis(), \"Linear Discriminant Analysis\", model_results)\r\n",
        "model_results = model_accuracy(X_scaled, Y, LogisticRegression(), \"Logistic Regression\", model_results)\r\n",
        "model_results = model_accuracy(X_scaled, Y, DecisionTreeClassifier(), \"Decision Tree\", model_results)\r\n",
        "model_results = model_accuracy(X_scaled, Y, RandomForestClassifier(), \"Random Forest\", model_results)\r\n",
        "model_results = model_accuracy(X_scaled, Y, GaussianNB(), \"Naive Bayes\", model_results)\r\n",
        "print(model_results)"
      ],
      "execution_count": null,
      "outputs": [
        {
          "output_type": "stream",
          "text": [
            "                         Models  Accuracy Score  F1 Score\n",
            "0        Support Vector Machine           0.650  0.522424\n",
            "1  Linear Discriminant Analysis           0.850  0.801429\n",
            "2           Logistic Regression           0.925  0.854451\n",
            "3                 Decision Tree           1.000  1.000000\n",
            "4                 Random Forest           0.950  0.871429\n",
            "5                   Naive Bayes           0.700  0.755792\n"
          ],
          "name": "stdout"
        }
      ]
    }
  ]
}